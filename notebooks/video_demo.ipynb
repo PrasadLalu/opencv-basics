{
 "cells": [
  {
   "cell_type": "code",
   "execution_count": 7,
   "id": "d185986d",
   "metadata": {},
   "outputs": [],
   "source": [
    "import numpy as np\n",
    "import matplotlib.pyplot as plt\n",
    "import cv2\n",
    "from pathlib import Path\n",
    "import os"
   ]
  },
  {
   "cell_type": "markdown",
   "id": "5b730827",
   "metadata": {},
   "source": [
    "### Save Image"
   ]
  },
  {
   "cell_type": "code",
   "execution_count": 11,
   "id": "2225d352",
   "metadata": {},
   "outputs": [],
   "source": [
    "cap = cv2.VideoCapture(0)\n",
    "\n",
    "dir = \"dayal\"\n",
    "os.makedirs(f\"samples/{dir}\", exist_ok=True)\n",
    "img_idx = 0\n",
    "while True:\n",
    "    ret, frame = cap.read()\n",
    "    cv2.imshow(\"Video Frame\", frame)\n",
    "    cv2.imwrite(f\"samples/{dir}/sample_{img_idx}.jpg\", frame)\n",
    "    \n",
    "    img_idx += 1\n",
    "    if cv2.waitKey(10) & 0xFF == ord(\"q\"):\n",
    "        break\n",
    "\n",
    "cap.release()\n",
    "cv2.destroyAllWindows()"
   ]
  },
  {
   "cell_type": "markdown",
   "id": "2819051b",
   "metadata": {},
   "source": [
    "### Save Video"
   ]
  },
  {
   "cell_type": "code",
   "execution_count": 14,
   "id": "248d89e5",
   "metadata": {},
   "outputs": [],
   "source": [
    "cap = cv2.VideoCapture(0)\n",
    "\n",
    "# Define the codec and initialize video object\n",
    "fourcc = cv2.VideoWriter_fourcc(*'XVID')\n",
    "out = cv2.VideoWriter(\"sample.avi\", fourcc, 20.0, (640, 480))\n",
    "\n",
    "while(cap.isOpened()):\n",
    "    # Capturing the frame\n",
    "    ret, frame = cap.read()\n",
    "    \n",
    "    if ret == True:\n",
    "        out.write(frame)\n",
    "        \n",
    "        cv2.imshow(\"video frame\", frame)\n",
    "        if cv2.waitKey(10) & 0xFF == ord(\"q\"):\n",
    "            break\n",
    "    else:\n",
    "        break\n",
    "        \n",
    "cap.release()\n",
    "out.release()\n",
    "cv2.destroyAllWindows()"
   ]
  },
  {
   "cell_type": "code",
   "execution_count": null,
   "id": "8ecd6ffb",
   "metadata": {},
   "outputs": [],
   "source": []
  }
 ],
 "metadata": {
  "kernelspec": {
   "display_name": "Python 3 (ipykernel)",
   "language": "python",
   "name": "python3"
  },
  "language_info": {
   "codemirror_mode": {
    "name": "ipython",
    "version": 3
   },
   "file_extension": ".py",
   "mimetype": "text/x-python",
   "name": "python",
   "nbconvert_exporter": "python",
   "pygments_lexer": "ipython3",
   "version": "3.10.0"
  }
 },
 "nbformat": 4,
 "nbformat_minor": 5
}
